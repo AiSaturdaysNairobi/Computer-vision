{
  "nbformat": 4,
  "nbformat_minor": 0,
  "metadata": {
    "kernelspec": {
      "display_name": "Python 3",
      "language": "python",
      "name": "python3"
    },
    "language_info": {
      "codemirror_mode": {
        "name": "ipython",
        "version": 3
      },
      "file_extension": ".py",
      "mimetype": "text/x-python",
      "name": "python",
      "nbconvert_exporter": "python",
      "pygments_lexer": "ipython3",
      "version": "3.7.0"
    },
    "colab": {
      "name": "PretrainedCNN.ipynb",
      "version": "0.3.2",
      "provenance": []
    }
  },
  "cells": [
    {
      "cell_type": "markdown",
      "metadata": {
        "id": "oEvSQ-KpUJqe",
        "colab_type": "text"
      },
      "source": [
        "## Using Pre-Trained Models\n",
        "In this exercise we will show how to load pre-trained models such as VGG16 and ResNet.  This is a fairly simple exercise designed to get you familiar with models like VGG and Resnet and the output they give.\n",
        "\n",
        "You will load in the VGG and ResNet models.  You will then use your laptop camera to take a picture.  Then you will run your picture through these models to see the results.\n",
        "\n",
        "You can also take pictures yourself and manually upload them.  Or find images on the internet and download them.  \n",
        "\n",
        "Look at the results for at least 5 different pictures and consider:\n",
        "\n",
        "- Did the models get the \"right\" answer?  Was the \"right\" answer on the list?\n",
        "- How confident was the prediction (did the top choice have a probability close to 1?)\n",
        "- How did the model handle pictures with multiple objects in them? (e.g. the rocking chair picture)\n",
        "- What were some of the \"wrong\" answers on the list?  Can you understand why the image classifier may have thought those other answers were correct?\n"
      ]
    },
    {
      "cell_type": "code",
      "metadata": {
        "id": "ioWtwXr0UJqo",
        "colab_type": "code",
        "colab": {}
      },
      "source": [
        "# install opencv if you haven't\n",
        "# conda install -c https://conda.binstar.org/menpo opencv3\n",
        "# pip install pillow"
      ],
      "execution_count": 0,
      "outputs": []
    },
    {
      "cell_type": "code",
      "metadata": {
        "id": "bIxQWoxgUJq8",
        "colab_type": "code",
        "colab": {},
        "outputId": "3cfbe093-5466-490c-b645-67e4874643b0"
      },
      "source": [
        "from PIL import Image\n",
        "from keras.preprocessing import image\n",
        "import numpy as np\n",
        "import pandas as pd\n",
        "\n",
        "import cv2\n",
        "from scipy.misc import imread\n",
        "import matplotlib.pyplot as plt\n",
        "\n",
        "%matplotlib inline"
      ],
      "execution_count": 0,
      "outputs": [
        {
          "output_type": "error",
          "ename": "ModuleNotFoundError",
          "evalue": "No module named 'PIL'",
          "traceback": [
            "\u001b[1;31m---------------------------------------------------------------------------\u001b[0m",
            "\u001b[1;31mModuleNotFoundError\u001b[0m                       Traceback (most recent call last)",
            "\u001b[1;32m<ipython-input-1-9675a13a1faf>\u001b[0m in \u001b[0;36m<module>\u001b[1;34m()\u001b[0m\n\u001b[1;32m----> 1\u001b[1;33m \u001b[1;32mfrom\u001b[0m \u001b[0mPIL\u001b[0m \u001b[1;32mimport\u001b[0m \u001b[0mImage\u001b[0m\u001b[1;33m\u001b[0m\u001b[0m\n\u001b[0m\u001b[0;32m      2\u001b[0m \u001b[1;32mfrom\u001b[0m \u001b[0mkeras\u001b[0m\u001b[1;33m.\u001b[0m\u001b[0mpreprocessing\u001b[0m \u001b[1;32mimport\u001b[0m \u001b[0mimage\u001b[0m\u001b[1;33m\u001b[0m\u001b[0m\n\u001b[0;32m      3\u001b[0m \u001b[1;32mimport\u001b[0m \u001b[0mnumpy\u001b[0m \u001b[1;32mas\u001b[0m \u001b[0mnp\u001b[0m\u001b[1;33m\u001b[0m\u001b[0m\n\u001b[0;32m      4\u001b[0m \u001b[1;32mimport\u001b[0m \u001b[0mpandas\u001b[0m \u001b[1;32mas\u001b[0m \u001b[0mpd\u001b[0m\u001b[1;33m\u001b[0m\u001b[0m\n\u001b[0;32m      5\u001b[0m \u001b[1;33m\u001b[0m\u001b[0m\n",
            "\u001b[1;31mModuleNotFoundError\u001b[0m: No module named 'PIL'"
          ]
        }
      ]
    },
    {
      "cell_type": "code",
      "metadata": {
        "id": "EgWslVqyUJrJ",
        "colab_type": "code",
        "colab": {}
      },
      "source": [
        "def get_image(camera):\n",
        "    retval, im = camera.read()\n",
        "    return im"
      ],
      "execution_count": 0,
      "outputs": []
    },
    {
      "cell_type": "code",
      "metadata": {
        "id": "JfcXhDU8UJre",
        "colab_type": "code",
        "colab": {}
      },
      "source": [
        "def save_webcam_image(img_path):\n",
        "\n",
        "    try:\n",
        "        camera_port = 0\n",
        "        ramp_frames = 10\n",
        "    \n",
        "        camera = cv2.VideoCapture(camera_port)\n",
        "\n",
        "        for i in range(ramp_frames):\n",
        "            retval, im_camera = camera.read()\n",
        "\n",
        "        retval, im_camera = camera.read()\n",
        "\n",
        "        im = cv2.resize(im_camera, (224, 224)).astype(np.float32)\n",
        "        cv2.imwrite(img_path, im)\n",
        "        del (camera)\n",
        "        return True\n",
        "    except ValueError as e:\n",
        "        print(\"Image Capture Failed\")\n",
        "    return False"
      ],
      "execution_count": 0,
      "outputs": []
    },
    {
      "cell_type": "code",
      "metadata": {
        "id": "zbMQvAQ1UJrn",
        "colab_type": "code",
        "colab": {}
      },
      "source": [
        "img_path = \"webcam_test_img.png\"\n",
        "\n",
        "if save_webcam_image(img_path) is False:\n",
        "    # Webcam not active, use the rocking chair Image\n",
        "    img_path = \"rocking_chair.jpg\"\n",
        "    print(\"Using the Test Rocking Chair Image: {}\".format(img_path))"
      ],
      "execution_count": 0,
      "outputs": []
    },
    {
      "cell_type": "code",
      "metadata": {
        "id": "rH1QJDL_UJr0",
        "colab_type": "code",
        "colab": {}
      },
      "source": [
        "plt.imshow(imread(img_path))"
      ],
      "execution_count": 0,
      "outputs": []
    },
    {
      "cell_type": "markdown",
      "metadata": {
        "id": "v7ZE3OZoUJr8",
        "colab_type": "text"
      },
      "source": [
        "## VGG16 - Pretrained Model"
      ]
    },
    {
      "cell_type": "code",
      "metadata": {
        "id": "yVN3o2XQUJr-",
        "colab_type": "code",
        "colab": {}
      },
      "source": [
        "from keras.applications import vgg16\n",
        "\n",
        "\n",
        "vgg16_model = vgg16.VGG16(weights='imagenet')\n",
        "vgg16_model.summary()"
      ],
      "execution_count": 0,
      "outputs": []
    },
    {
      "cell_type": "code",
      "metadata": {
        "id": "pb3itDjwUJsJ",
        "colab_type": "code",
        "colab": {}
      },
      "source": [
        "# Utility Function to Load Image, Preprocess input and Targets\n",
        "def predict_image(model, img_path, preprocess_input_fn, decode_predictions_fn, target_size=(224, 224)):\n",
        "\n",
        "    img = image.load_img(img_path, target_size=target_size)\n",
        "    x = image.img_to_array(img)\n",
        "    x = np.expand_dims(x, axis=0)\n",
        "    x = preprocess_input_fn(x)\n",
        "    \n",
        "    preds = model.predict(x)\n",
        "    predictions_df = pd.DataFrame(decode_predictions_fn(preds, top=10)[0])\n",
        "    predictions_df.columns = [\"Predicted Class\", \"Name\", \"Probability\"]\n",
        "    return predictions_df"
      ],
      "execution_count": 0,
      "outputs": []
    },
    {
      "cell_type": "code",
      "metadata": {
        "id": "JsQwyOdDUJsS",
        "colab_type": "code",
        "colab": {}
      },
      "source": [
        "#img_path=\"rocking_chair.png\"  ## Uncomment this and put the path to your file here if desired\n",
        "# Predict Results\n",
        "predict_image(vgg16_model, img_path, vgg16.preprocess_input, vgg16.decode_predictions)"
      ],
      "execution_count": 0,
      "outputs": []
    },
    {
      "cell_type": "markdown",
      "metadata": {
        "id": "BUsQA4AYUJsh",
        "colab_type": "text"
      },
      "source": [
        "## Resnet50 - Pretrained Model"
      ]
    },
    {
      "cell_type": "code",
      "metadata": {
        "id": "ywXVWgPNUJsk",
        "colab_type": "code",
        "colab": {}
      },
      "source": [
        "# Define a Resnet model and print the model summary (follow the same procedure as in VGGNet)\n",
        "\n",
        "# It will download the weights that might take a while\n",
        "# Also, the summary will be quite long, since Resnet50 is a much larger network than VGG16"
      ],
      "execution_count": 0,
      "outputs": []
    },
    {
      "cell_type": "code",
      "metadata": {
        "id": "fZPsusmDUJsv",
        "colab_type": "code",
        "colab": {}
      },
      "source": [
        "# Predict Results"
      ],
      "execution_count": 0,
      "outputs": []
    },
    {
      "cell_type": "code",
      "metadata": {
        "id": "PeCvq8kmUJs8",
        "colab_type": "code",
        "colab": {}
      },
      "source": [
        ""
      ],
      "execution_count": 0,
      "outputs": []
    }
  ]
}